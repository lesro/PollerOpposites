{
 "cells": [
  {
   "cell_type": "code",
   "execution_count": null,
   "metadata": {},
   "outputs": [],
   "source": [
    "import json\n",
    "import pandas as pd\n",
    "import numpy as np"
   ]
  },
  {
   "cell_type": "code",
   "execution_count": null,
   "metadata": {},
   "outputs": [],
   "source": [
    "def manual_label(df):\n",
    "    name = input(\"enter your name: \")\n",
    "    label_file = open(name+\"labels.csv\",\"w\")\n",
    "    index = int(input(\"Enter your start index (Negative numbers allowed, give yourself room to skip): \"))\n",
    "    to_go = 1000\n",
    "    while to_go:\n",
    "        print(df.iloc[index,3])\n",
    "        print(\"\\n\"+to_go+\" Tweets Remaining\")\n",
    "        label = int(input(\"Label this tweet: (0: Biden  1: Trump 2: Skip)\"))\n",
    "        if label < 2:\n",
    "            to_go -= 1\n",
    "            line = str(index)+\", \"+str(label)+\"\\n\"\n",
    "            label_file.write(line)\n",
    "        index +=1\n",
    "    label_file.close()"
   ]
  },
  {
   "cell_type": "code",
   "execution_count": null,
   "metadata": {},
   "outputs": [],
   "source": [
    "!cat  concatenated_abridged.jsonl | sed -e ':a' -e 'N' -e '$!ba' -e 's/\\n/,/g'  | sed 's/n/,/' | sed 's/^/[/'| sed 's/$/]/' > concatenated_abridged.json\n",
    "df = pd.read_json(\"concatenated_abridged.json\", orient=\"records\")\n",
    "df.to_csv(\"tweets.csv\")\n",
    "!gzip tweets.csv"
   ]
  },
  {
   "cell_type": "code",
   "execution_count": null,
   "metadata": {},
   "outputs": [],
   "source": [
    "manual_label(df)"
   ]
  }
 ],
 "metadata": {
  "kernelspec": {
   "display_name": "Python 3",
   "language": "python",
   "name": "python3"
  },
  "language_info": {
   "codemirror_mode": {
    "name": "ipython",
    "version": 3
   },
   "file_extension": ".py",
   "mimetype": "text/x-python",
   "name": "python",
   "nbconvert_exporter": "python",
   "pygments_lexer": "ipython3",
   "version": "3.8.5"
  }
 },
 "nbformat": 4,
 "nbformat_minor": 4
}
