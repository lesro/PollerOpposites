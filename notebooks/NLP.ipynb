{
 "metadata": {
  "language_info": {
   "codemirror_mode": {
    "name": "ipython",
    "version": 3
   },
   "file_extension": ".py",
   "mimetype": "text/x-python",
   "name": "python",
   "nbconvert_exporter": "python",
   "pygments_lexer": "ipython3",
   "version": "3.7.7-final"
  },
  "orig_nbformat": 2,
  "kernelspec": {
   "name": "python37664bitanaconda3virtualenv9b7bc183029240479f6be3eb0b77fa3c",
   "display_name": "Python 3.7.6 64-bit ('anaconda3': virtualenv)"
  }
 },
 "nbformat": 4,
 "nbformat_minor": 2,
 "cells": [
  {
   "cell_type": "code",
   "execution_count": 2,
   "metadata": {},
   "outputs": [],
   "source": [
    "import numpy as np\n",
    "import pandas as pd\n",
    "from sklearn.naive_bayes import MultinomialNB\n",
    "from sklearn.metrics import f1_score, confusion_matrix\n",
    "from sklearn.feature_extraction.text import CountVectorizer, TfidfVectorizer\n",
    "from sklearn.model_selection import cross_val_score, train_test_split\n",
    "import string\n",
    "from nltk.stem.snowball import EnglishStemmer\n",
    "from nltk.corpus import stopwords\n",
    "from nltk.stem import porter\n",
    "from nltk.stem.util import suffix_replace, prefix_replace\n",
    "from nltk.tokenize import sent_tokenize\n",
    "from nltk.tokenize import word_tokenize\n",
    "from nltk import SnowballStemmer\n",
    "import unicodedata\n",
    "import datetime\n",
    "import seaborn as sns\n",
    "\n",
    "from sklearn.decomposition import NMF as NMF_sklearn"
   ]
  },
  {
   "cell_type": "code",
   "execution_count": 12,
   "metadata": {},
   "outputs": [],
   "source": [
    "final_df = pd.read_json('/Users/lesropro/the_dive/DATAthon/poller_opposites_election_hackathon/ignorefiles/dfs/sentiment_whole.json')"
   ]
  },
  {
   "cell_type": "code",
   "execution_count": 13,
   "metadata": {},
   "outputs": [
    {
     "output_type": "execute_result",
     "data": {
      "text/plain": [
       "        Unnamed: 0          created_at  \\\n",
       "0                0 2020-09-29 23:59:56   \n",
       "1                1 2020-09-29 23:59:58   \n",
       "2                2 2020-09-30 00:00:00   \n",
       "3                3 2020-09-30 00:00:02   \n",
       "4                4 2020-09-30 00:00:04   \n",
       "...            ...                 ...   \n",
       "140333      140332 2020-10-02 23:59:13   \n",
       "140334      140333 2020-10-02 23:59:27   \n",
       "140335      140334 2020-10-02 23:59:03   \n",
       "140336      140335 2020-10-02 23:59:41   \n",
       "140337      140336 2020-10-02 23:59:24   \n",
       "\n",
       "                                                full_text  \\\n",
       "0       Bide, a professional debater??  Hardly!! More ...   \n",
       "1       RT @DarDar458: #PresidentialDebate #Debates202...   \n",
       "2       How can Biden stand a chance against Trump in ...   \n",
       "3       RT @abbydphillip: Very reminiscent of pre-2018...   \n",
       "4       RT @RudyGiuliani: Why was Corrupt Biden’s son ...   \n",
       "...                                                   ...   \n",
       "140333       RT @realDonaldTrump: https://t.co/B4H105KVSs   \n",
       "140334  @ScottAdamsSays Hi, my son died, please vote J...   \n",
       "140335  @FoxNews can stick it where the sun doesn't sh...   \n",
       "140336  RT @aaronjcarpenter: I can’t stress this enoug...   \n",
       "140337  RT @EliseStefanik: Doesn’t get any better than...   \n",
       "\n",
       "                                                     user  retweet_count  \\\n",
       "0       {'id': 117904481, 'id_str': '117904481', 'name...              0   \n",
       "1       {'id': 30140760, 'id_str': '30140760', 'name':...              1   \n",
       "2       {'id': 281610530, 'id_str': '281610530', 'name...             25   \n",
       "3       {'id': 88223320, 'id_str': '88223320', 'name':...            351   \n",
       "4       {'id': 44295160, 'id_str': '44295160', 'name':...          15672   \n",
       "...                                                   ...            ...   \n",
       "140333  {'id': 27780458, 'id_str': '27780458', 'name':...         131058   \n",
       "140334  {'id': 1081132982449119232, 'id_str': '1081132...              0   \n",
       "140335  {'id': 2290692901, 'id_str': '2290692901', 'na...              0   \n",
       "140336  {'id': 1931084401, 'id_str': '1931084401', 'na...             27   \n",
       "140337  {'id': 721732612918616065, 'id_str': '72173261...           2223   \n",
       "\n",
       "        favorite_count lang  \\\n",
       "0                    0   en   \n",
       "1                    0  und   \n",
       "2                  100   en   \n",
       "3                    0   en   \n",
       "4                    0   en   \n",
       "...                ...  ...   \n",
       "140333               0  und   \n",
       "140334               0   en   \n",
       "140335               0   en   \n",
       "140336               0   en   \n",
       "140337               0   en   \n",
       "\n",
       "                                         retweeted_status  \\\n",
       "0                                                    None   \n",
       "1       {'created_at': 'Tue Sep 29 23:55:42 +0000 2020...   \n",
       "2                                                    None   \n",
       "3       {'created_at': 'Tue Sep 29 23:00:28 +0000 2020...   \n",
       "4       {'created_at': 'Tue Sep 29 19:07:59 +0000 2020...   \n",
       "...                                                   ...   \n",
       "140333  {'created_at': 'Fri Oct 02 22:31:56 +0000 2020...   \n",
       "140334                                               None   \n",
       "140335                                               None   \n",
       "140336  {'created_at': 'Fri Oct 02 23:58:26 +0000 2020...   \n",
       "140337  {'created_at': 'Fri Oct 02 23:54:45 +0000 2020...   \n",
       "\n",
       "                                               clean_text  \\\n",
       "0       bide a profession debat hard more like a profe...   \n",
       "1       rt dardar458 presidentialdeb debates2020 trump...   \n",
       "2       how can biden stand a chanc against trump in t...   \n",
       "3       rt abbydphillip veri reminisc of pre2018 elect...   \n",
       "4       rt rudygiuliani whi was corrupt biden son be p...   \n",
       "...                                                   ...   \n",
       "140333              rt realdonaldtrump httpstcob4h105kvss   \n",
       "140334   scottadamssay hi my son die pleas vote joe biden   \n",
       "140335  foxnew can stick it where the sun doesnt shine...   \n",
       "140336  rt aaronjcarpent i cant stress this enough if ...   \n",
       "140337  rt elisestefanik doesnt get ani better than th...   \n",
       "\n",
       "                                              description  ... hour dayofweek  \\\n",
       "0       Conservative/#MAGA/ #WWG1WGA /MbrNRA/#Trump202...  ...   23         1   \n",
       "1       Canadian 🇨🇦 Windmill Cancer Survivor. I follow...  ...   23         1   \n",
       "2       Airing Weekdays at 9AM ET on the Fox Business ...  ...    0         2   \n",
       "3       Politics reporter covering elections & voting ...  ...    0         2   \n",
       "4       wife, mother, grandmother, southerner, conserv...  ...    0         2   \n",
       "...                                                   ...  ...  ...       ...   \n",
       "140333  I’m just your average fed up & fired up Americ...  ...   23         4   \n",
       "140334   Connecting with you\\nThank you ^-^\\n\\n🌎🇫🇷🐸1️⃣7️⃣  ...   23         4   \n",
       "140335                            Making moves for change  ...   23         4   \n",
       "140336  Retired Navy Pilot & proud Naval Academy gradu...  ...   23         4   \n",
       "140337                                                     ...   23         4   \n",
       "\n",
       "             date clean_loc trump_mentioned_cnt biden_mentioned_cnt  \\\n",
       "0      2020-09-29      None                   0                   0   \n",
       "1      2020-09-29      None                   1                   0   \n",
       "2      2020-09-30        NY                   3                   1   \n",
       "3      2020-09-30        NY                   1                   0   \n",
       "4      2020-09-30        FL                   0                   1   \n",
       "...           ...       ...                 ...                 ...   \n",
       "140333 2020-10-02        WA                   1                   0   \n",
       "140334 2020-10-02      None                   0                   1   \n",
       "140335 2020-10-02      None                   0                   0   \n",
       "140336 2020-10-02        NH                   1                   0   \n",
       "140337 2020-10-02        TN                   1                   0   \n",
       "\n",
       "        #_sent_trumpdisgrace  #_sent_creepyjoe    sent sent_cat  \n",
       "0                          0                 0 -0.4627       -1  \n",
       "1                         -1                 0  0.0000        0  \n",
       "2                          0                 0  0.7579        1  \n",
       "3                          0                 0  0.0000        0  \n",
       "4                          0                 0  0.0000        0  \n",
       "...                      ...               ...     ...      ...  \n",
       "140333                     0                 0  0.0000        0  \n",
       "140334                     0                 0 -0.3182       -1  \n",
       "140335                     0                 0  0.0000        0  \n",
       "140336                     0                 0 -0.5106       -1  \n",
       "140337                     0                 0  0.7712        1  \n",
       "\n",
       "[140336 rows x 26 columns]"
      ],
      "text/html": "<div>\n<style scoped>\n    .dataframe tbody tr th:only-of-type {\n        vertical-align: middle;\n    }\n\n    .dataframe tbody tr th {\n        vertical-align: top;\n    }\n\n    .dataframe thead th {\n        text-align: right;\n    }\n</style>\n<table border=\"1\" class=\"dataframe\">\n  <thead>\n    <tr style=\"text-align: right;\">\n      <th></th>\n      <th>Unnamed: 0</th>\n      <th>created_at</th>\n      <th>full_text</th>\n      <th>user</th>\n      <th>retweet_count</th>\n      <th>favorite_count</th>\n      <th>lang</th>\n      <th>retweeted_status</th>\n      <th>clean_text</th>\n      <th>description</th>\n      <th>...</th>\n      <th>hour</th>\n      <th>dayofweek</th>\n      <th>date</th>\n      <th>clean_loc</th>\n      <th>trump_mentioned_cnt</th>\n      <th>biden_mentioned_cnt</th>\n      <th>#_sent_trumpdisgrace</th>\n      <th>#_sent_creepyjoe</th>\n      <th>sent</th>\n      <th>sent_cat</th>\n    </tr>\n  </thead>\n  <tbody>\n    <tr>\n      <th>0</th>\n      <td>0</td>\n      <td>2020-09-29 23:59:56</td>\n      <td>Bide, a professional debater??  Hardly!! More ...</td>\n      <td>{'id': 117904481, 'id_str': '117904481', 'name...</td>\n      <td>0</td>\n      <td>0</td>\n      <td>en</td>\n      <td>None</td>\n      <td>bide a profession debat hard more like a profe...</td>\n      <td>Conservative/#MAGA/ #WWG1WGA /MbrNRA/#Trump202...</td>\n      <td>...</td>\n      <td>23</td>\n      <td>1</td>\n      <td>2020-09-29</td>\n      <td>None</td>\n      <td>0</td>\n      <td>0</td>\n      <td>0</td>\n      <td>0</td>\n      <td>-0.4627</td>\n      <td>-1</td>\n    </tr>\n    <tr>\n      <th>1</th>\n      <td>1</td>\n      <td>2020-09-29 23:59:58</td>\n      <td>RT @DarDar458: #PresidentialDebate #Debates202...</td>\n      <td>{'id': 30140760, 'id_str': '30140760', 'name':...</td>\n      <td>1</td>\n      <td>0</td>\n      <td>und</td>\n      <td>{'created_at': 'Tue Sep 29 23:55:42 +0000 2020...</td>\n      <td>rt dardar458 presidentialdeb debates2020 trump...</td>\n      <td>Canadian 🇨🇦 Windmill Cancer Survivor. I follow...</td>\n      <td>...</td>\n      <td>23</td>\n      <td>1</td>\n      <td>2020-09-29</td>\n      <td>None</td>\n      <td>1</td>\n      <td>0</td>\n      <td>-1</td>\n      <td>0</td>\n      <td>0.0000</td>\n      <td>0</td>\n    </tr>\n    <tr>\n      <th>2</th>\n      <td>2</td>\n      <td>2020-09-30 00:00:00</td>\n      <td>How can Biden stand a chance against Trump in ...</td>\n      <td>{'id': 281610530, 'id_str': '281610530', 'name...</td>\n      <td>25</td>\n      <td>100</td>\n      <td>en</td>\n      <td>None</td>\n      <td>how can biden stand a chanc against trump in t...</td>\n      <td>Airing Weekdays at 9AM ET on the Fox Business ...</td>\n      <td>...</td>\n      <td>0</td>\n      <td>2</td>\n      <td>2020-09-30</td>\n      <td>NY</td>\n      <td>3</td>\n      <td>1</td>\n      <td>0</td>\n      <td>0</td>\n      <td>0.7579</td>\n      <td>1</td>\n    </tr>\n    <tr>\n      <th>3</th>\n      <td>3</td>\n      <td>2020-09-30 00:00:02</td>\n      <td>RT @abbydphillip: Very reminiscent of pre-2018...</td>\n      <td>{'id': 88223320, 'id_str': '88223320', 'name':...</td>\n      <td>351</td>\n      <td>0</td>\n      <td>en</td>\n      <td>{'created_at': 'Tue Sep 29 23:00:28 +0000 2020...</td>\n      <td>rt abbydphillip veri reminisc of pre2018 elect...</td>\n      <td>Politics reporter covering elections &amp; voting ...</td>\n      <td>...</td>\n      <td>0</td>\n      <td>2</td>\n      <td>2020-09-30</td>\n      <td>NY</td>\n      <td>1</td>\n      <td>0</td>\n      <td>0</td>\n      <td>0</td>\n      <td>0.0000</td>\n      <td>0</td>\n    </tr>\n    <tr>\n      <th>4</th>\n      <td>4</td>\n      <td>2020-09-30 00:00:04</td>\n      <td>RT @RudyGiuliani: Why was Corrupt Biden’s son ...</td>\n      <td>{'id': 44295160, 'id_str': '44295160', 'name':...</td>\n      <td>15672</td>\n      <td>0</td>\n      <td>en</td>\n      <td>{'created_at': 'Tue Sep 29 19:07:59 +0000 2020...</td>\n      <td>rt rudygiuliani whi was corrupt biden son be p...</td>\n      <td>wife, mother, grandmother, southerner, conserv...</td>\n      <td>...</td>\n      <td>0</td>\n      <td>2</td>\n      <td>2020-09-30</td>\n      <td>FL</td>\n      <td>0</td>\n      <td>1</td>\n      <td>0</td>\n      <td>0</td>\n      <td>0.0000</td>\n      <td>0</td>\n    </tr>\n    <tr>\n      <th>...</th>\n      <td>...</td>\n      <td>...</td>\n      <td>...</td>\n      <td>...</td>\n      <td>...</td>\n      <td>...</td>\n      <td>...</td>\n      <td>...</td>\n      <td>...</td>\n      <td>...</td>\n      <td>...</td>\n      <td>...</td>\n      <td>...</td>\n      <td>...</td>\n      <td>...</td>\n      <td>...</td>\n      <td>...</td>\n      <td>...</td>\n      <td>...</td>\n      <td>...</td>\n      <td>...</td>\n    </tr>\n    <tr>\n      <th>140333</th>\n      <td>140332</td>\n      <td>2020-10-02 23:59:13</td>\n      <td>RT @realDonaldTrump: https://t.co/B4H105KVSs</td>\n      <td>{'id': 27780458, 'id_str': '27780458', 'name':...</td>\n      <td>131058</td>\n      <td>0</td>\n      <td>und</td>\n      <td>{'created_at': 'Fri Oct 02 22:31:56 +0000 2020...</td>\n      <td>rt realdonaldtrump httpstcob4h105kvss</td>\n      <td>I’m just your average fed up &amp; fired up Americ...</td>\n      <td>...</td>\n      <td>23</td>\n      <td>4</td>\n      <td>2020-10-02</td>\n      <td>WA</td>\n      <td>1</td>\n      <td>0</td>\n      <td>0</td>\n      <td>0</td>\n      <td>0.0000</td>\n      <td>0</td>\n    </tr>\n    <tr>\n      <th>140334</th>\n      <td>140333</td>\n      <td>2020-10-02 23:59:27</td>\n      <td>@ScottAdamsSays Hi, my son died, please vote J...</td>\n      <td>{'id': 1081132982449119232, 'id_str': '1081132...</td>\n      <td>0</td>\n      <td>0</td>\n      <td>en</td>\n      <td>None</td>\n      <td>scottadamssay hi my son die pleas vote joe biden</td>\n      <td>Connecting with you\\nThank you ^-^\\n\\n🌎🇫🇷🐸1️⃣7️⃣</td>\n      <td>...</td>\n      <td>23</td>\n      <td>4</td>\n      <td>2020-10-02</td>\n      <td>None</td>\n      <td>0</td>\n      <td>1</td>\n      <td>0</td>\n      <td>0</td>\n      <td>-0.3182</td>\n      <td>-1</td>\n    </tr>\n    <tr>\n      <th>140335</th>\n      <td>140334</td>\n      <td>2020-10-02 23:59:03</td>\n      <td>@FoxNews can stick it where the sun doesn't sh...</td>\n      <td>{'id': 2290692901, 'id_str': '2290692901', 'na...</td>\n      <td>0</td>\n      <td>0</td>\n      <td>en</td>\n      <td>None</td>\n      <td>foxnew can stick it where the sun doesnt shine...</td>\n      <td>Making moves for change</td>\n      <td>...</td>\n      <td>23</td>\n      <td>4</td>\n      <td>2020-10-02</td>\n      <td>None</td>\n      <td>0</td>\n      <td>0</td>\n      <td>0</td>\n      <td>0</td>\n      <td>0.0000</td>\n      <td>0</td>\n    </tr>\n    <tr>\n      <th>140336</th>\n      <td>140335</td>\n      <td>2020-10-02 23:59:41</td>\n      <td>RT @aaronjcarpenter: I can’t stress this enoug...</td>\n      <td>{'id': 1931084401, 'id_str': '1931084401', 'na...</td>\n      <td>27</td>\n      <td>0</td>\n      <td>en</td>\n      <td>{'created_at': 'Fri Oct 02 23:58:26 +0000 2020...</td>\n      <td>rt aaronjcarpent i cant stress this enough if ...</td>\n      <td>Retired Navy Pilot &amp; proud Naval Academy gradu...</td>\n      <td>...</td>\n      <td>23</td>\n      <td>4</td>\n      <td>2020-10-02</td>\n      <td>NH</td>\n      <td>1</td>\n      <td>0</td>\n      <td>0</td>\n      <td>0</td>\n      <td>-0.5106</td>\n      <td>-1</td>\n    </tr>\n    <tr>\n      <th>140337</th>\n      <td>140336</td>\n      <td>2020-10-02 23:59:24</td>\n      <td>RT @EliseStefanik: Doesn’t get any better than...</td>\n      <td>{'id': 721732612918616065, 'id_str': '72173261...</td>\n      <td>2223</td>\n      <td>0</td>\n      <td>en</td>\n      <td>{'created_at': 'Fri Oct 02 23:54:45 +0000 2020...</td>\n      <td>rt elisestefanik doesnt get ani better than th...</td>\n      <td></td>\n      <td>...</td>\n      <td>23</td>\n      <td>4</td>\n      <td>2020-10-02</td>\n      <td>TN</td>\n      <td>1</td>\n      <td>0</td>\n      <td>0</td>\n      <td>0</td>\n      <td>0.7712</td>\n      <td>1</td>\n    </tr>\n  </tbody>\n</table>\n<p>140336 rows × 26 columns</p>\n</div>"
     },
     "metadata": {},
     "execution_count": 13
    }
   ],
   "source": [
    "final_df"
   ]
  },
  {
   "cell_type": "code",
   "execution_count": 10,
   "metadata": {},
   "outputs": [],
   "source": [
    "content = final_df['clean_text']\n",
    "vectorizer = TfidfVectorizer(stop_words='english', max_features=5000, min_df=10)\n",
    "X = vectorizer.fit_transform(content)\n",
    "features = vectorizer.get_feature_names()"
   ]
  },
  {
   "cell_type": "code",
   "execution_count": 8,
   "metadata": {},
   "outputs": [],
   "source": [
    "nmf = NMF_sklearn(n_components=25, max_iter=100, random_state=12345, alpha=0.0)\n",
    "W = nmf.fit_transform(X)\n",
    "H = nmf.components_"
   ]
  },
  {
   "cell_type": "code",
   "execution_count": 11,
   "metadata": {},
   "outputs": [
    {
     "output_type": "stream",
     "name": "stdout",
     "text": [
      "['process' 'begin' 'quarantin' 'immedi' 'covid19' 'recoveri' 'posit'\n 'tonight' 'test' 'flotus']\n['trump' 'support' 'covid' 'melania' 'fuck' 'say' 'coronavirus' 'campaign'\n 'ladi' 'que']\n['realdonaldtrump' 'thank' 'httpstcokifqoazeuw' 'httpstco58ssx7efuj'\n 'liar' 'httpstcoranjvhaco' 'httpstcotroy9toc8x' 'httpstco73kpvwrugh'\n 'httpstcozm6lqzgppq' 'httpstcorunkw7pxyv']\n['thank' 'negat' 'hop' 'jill' 'concern' 'happi' 'messag' 'im' 'report'\n 'everyon']\n['did' 'stand' 'instruct' 'petebuttigieg' 'group' 'unit' 'just' 'state'\n 'supremacist' 'presid']\n['rt' 'debates2020' 'httpstcokifqoazeuw' 'year' 'today'\n 'httpstco58ssx7efuj' 'projectlincoln' 'httpstcoranjvhaco' 'ntrump'\n 'gtconway3d']\n['proud' 'boy' 'stand' 'told' 'say' 'son' 'said' 'tell' 'black' 'hes']\n['biden' 'joe' 'antifa' 'son' 'hunter' 'lie' 'idea' 'wear' 'campaign'\n 'realjameswood']\n['debat' 'won' 'presidenti' 'poll' 'compil' 'big' 'base' 'commiss' 'rule'\n 'moder']\n['want' 'shut' 'countri' 'open' 'joe' 'man' 'celebr' 'didnt' 'sleepi'\n 'communiti']\n['vote' 'right' 'mail' 'everi' 'im' 'american' 'elect' 'day' 'voter'\n 'alewifevinyi']\n['say' 'america' 'shouldnt' 'beg' 'place' 'nw' 'state' 'unit' 'supremaci'\n 'presid']\n['hope' 'hick' 'test' 'covid' 'posit' 'break' '19' 'small' 'just' 'work']\n['httpstcohusfkhqsyc' 'realdonaldtrump' 'rt' 'im' 'commiss' 'wer' 'defect'\n 'chang' 'replac' 'peopl']\n['joebiden' 'httpstcoeoxt07uii9' 'togeth' 'come' 'httpstco4w5osorzxi'\n 'weve' 'moment' 'battl' 'hillaryclinton' 'jillbiden46']\n['ballot' 'new' 'york' '100000' 'defect' 'wer' 'replac' 'happen' 'want'\n 'mail']\n['donald' 'trump' 'worst' 'weve' 'becaus' 'america' 'coronavirus' 'elect'\n 'covid19' 'edmarkey']\n['white' 'condemn' 'supremacist' 'supremaci' 'refus' 'denounc' 'ask'\n 'hous' 'didnt' 'wont']\n['httpstcob4h105kvss' 'realdonaldtrump' 'rt' 'commiss' 'im' 'wer' 'defect'\n 'chang' 'peopl' 'replac']\n['watch' 'andrewyang' 'deserv' '1000' 'month' 'everyon' 'debat' 'lost'\n 'felt' 'think']\n['like' 'peopl' 'know' 'dont' 'think' 'american' 'just' 'amp' 'look'\n 'need']\n['wallac' 'chris' 'ask' 'question' 'time' 'interrupt' 'whi' '2016'\n 'journalist' 'wow']\n['got' 'someth' 'veri' 'comey' 'jame' 'caught' 'worst' 'dumb' 'signific'\n 'cold']\n['flotus' 'realdonaldtrump' 'prayer' 'pray' 'recoveri' 'wish'\n 'therightmelissa' 'potus' 'speedi' 'god']\n['presid' 'weve' 'becom' 'poorer' 'sicker' 'weaker' 'divid' 'violent'\n 'worst' 'ladi']\n"
     ]
    }
   ],
   "source": [
    "for i, row in enumerate(H):\n",
    "        top_ten = np.argsort(row)[::-1][:10]\n",
    "        print(np.array(features)[top_ten])"
   ]
  },
  {
   "cell_type": "code",
   "execution_count": null,
   "metadata": {},
   "outputs": [],
   "source": []
  }
 ]
}