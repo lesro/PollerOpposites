{
 "cells": [
  {
   "cell_type": "code",
   "execution_count": 1,
   "metadata": {},
   "outputs": [],
   "source": [
    "import json\n",
    "import pandas as pd\n",
    "import numpy as np"
   ]
  },
  {
   "cell_type": "code",
   "execution_count": 10,
   "metadata": {},
   "outputs": [],
   "source": [
    "def manual_label(df):\n",
    "    name = input(\"enter your name: \")\n",
    "    label_file = open(name+\"labels.csv\",\"w\")\n",
    "    index = int(input(\"Enter your start index (Negative numbers allowed, give yourself room to skip): \"))\n",
    "    to_go = 1000\n",
    "    while to_go:\n",
    "        print(df.iloc[index,3])\n",
    "        print(\"\\n\"+str(to_go)+\" Tweets Remaining\")\n",
    "        label = int(input(\"Label this tweet: (0: Biden  1: Trump 2: Skip)\"))\n",
    "        if label < 2:\n",
    "            to_go -= 1\n",
    "            line = str(index)+\", \"+str(label)+\"\\n\"\n",
    "            label_file.write(line)\n",
    "        index +=1\n",
    "    label_file.close()"
   ]
  },
  {
   "cell_type": "code",
   "execution_count": 11,
   "metadata": {},
   "outputs": [],
   "source": [
    "!cat  ../concatenated_abridged.jsonl | sed -e ':a' -e 'N' -e '$!ba' -e 's/\\n/,/g'  | sed 's/n/,/' | sed 's/^/[/'| sed 's/$/]/' > concatenated_abridged.json\n",
    "df = pd.read_json(\"concatenated_abridged.json\", orient=\"records\")\n",
    "df.to_csv(\"tweets.csv\")\n",
    "!gzip tweets.csv"
   ]
  },
  {
   "cell_type": "code",
   "execution_count": 15,
   "metadata": {},
   "outputs": [
    {
     "output_type": "stream",
     "name": "stdout",
     "text": [
      "RT @David27356248: Retweet : How likely is it that you will vote for Biden?\n",
      "\n",
      "1000 Tweets Remaining\n",
      "RT @GroverNorquist: Video: Yes, Biden will ban fracking.\n",
      "He admits it on camera https://t.co/8b8xIoIKQV\n",
      "\n",
      "1000 Tweets Remaining\n",
      "RT @ABC: \"Mr. President, let him answer!\"\n",
      "\n",
      "\"Mr. President, please stop.\"\n",
      "\n",
      "Moderator Chris Wallace repeatedly tries to keep Pres. Trump from…\n",
      "\n",
      "1000 Tweets Remaining\n",
      "Oct 30, 2017– Hawaii Congresswoman @TulsiGabbard (D) offered an overview of her recent trip to the Republics of #Armenia and #Artsakh (#NagornoKarabakh) and discussed the imperative of U.S. reaffirmation of the #ArmenianGenocide \n",
      "https://t.co/K3fEPprPEC\n",
      "\n",
      "1000 Tweets Remaining\n",
      "RT @itsJeffTiedrich: please tell me again how Comey and Obama a bunch of lifelong Republicans in the FBI colluded with Ukraine and Hillary…\n",
      "\n",
      "1000 Tweets Remaining\n",
      "RT @Amy_Siskind: Data in 10 states voting early by mail shows Democrats requesting substantially more ballots, and returning them at a fast…\n",
      "\n",
      "1000 Tweets Remaining\n",
      "RT @brianklaas: Nice to see that mainstream analysis has caught up with what was obvious since 2015: Donald Trump's authoritarianism is a s…\n",
      "\n",
      "1000 Tweets Remaining\n",
      "RT @realDonaldTrump: Thank you Duluth, Minnesota! \n",
      "https://t.co/OY9Ki05WHb\n",
      "\n",
      "1000 Tweets Remaining\n",
      "@ChuckGrassley You need to go. You continue to be  partisan, blindly follow Trump and fail Iowa and the country. Resign.\n",
      "\n",
      "1000 Tweets Remaining\n",
      "RT @AMPFEST_USA: Congratulations to President Trump for not listening to the haters &amp; nomination our new Supreme Court \n",
      "😁🙌 #AmyConeyBarrett…\n",
      "\n",
      "999 Tweets Remaining\n",
      "@angelasherri @IngrahamAngle its telling when you have to make up total lies like this. trump just showed the world last night he is an out of control egomaniac with zero knowledge of basic things, and that he cant find it in himself to condemn racists\n",
      "\n",
      "998 Tweets Remaining\n"
     ]
    },
    {
     "output_type": "error",
     "ename": "ValueError",
     "evalue": "invalid literal for int() with base 10: ''",
     "traceback": [
      "\u001b[0;31m---------------------------------------------------------------------------\u001b[0m",
      "\u001b[0;31mValueError\u001b[0m                                Traceback (most recent call last)",
      "\u001b[0;32m<ipython-input-15-373f9d02c831>\u001b[0m in \u001b[0;36m<module>\u001b[0;34m\u001b[0m\n\u001b[0;32m----> 1\u001b[0;31m \u001b[0mmanual_label\u001b[0m\u001b[0;34m(\u001b[0m\u001b[0mdf\u001b[0m\u001b[0;34m)\u001b[0m\u001b[0;34m\u001b[0m\u001b[0;34m\u001b[0m\u001b[0m\n\u001b[0m",
      "\u001b[0;32m<ipython-input-10-ac082432c3ec>\u001b[0m in \u001b[0;36mmanual_label\u001b[0;34m(df)\u001b[0m\n\u001b[1;32m      7\u001b[0m         \u001b[0mprint\u001b[0m\u001b[0;34m(\u001b[0m\u001b[0mdf\u001b[0m\u001b[0;34m.\u001b[0m\u001b[0miloc\u001b[0m\u001b[0;34m[\u001b[0m\u001b[0mindex\u001b[0m\u001b[0;34m,\u001b[0m\u001b[0;36m3\u001b[0m\u001b[0;34m]\u001b[0m\u001b[0;34m)\u001b[0m\u001b[0;34m\u001b[0m\u001b[0;34m\u001b[0m\u001b[0m\n\u001b[1;32m      8\u001b[0m         \u001b[0mprint\u001b[0m\u001b[0;34m(\u001b[0m\u001b[0;34m\"\\n\"\u001b[0m\u001b[0;34m+\u001b[0m\u001b[0mstr\u001b[0m\u001b[0;34m(\u001b[0m\u001b[0mto_go\u001b[0m\u001b[0;34m)\u001b[0m\u001b[0;34m+\u001b[0m\u001b[0;34m\" Tweets Remaining\"\u001b[0m\u001b[0;34m)\u001b[0m\u001b[0;34m\u001b[0m\u001b[0;34m\u001b[0m\u001b[0m\n\u001b[0;32m----> 9\u001b[0;31m         \u001b[0mlabel\u001b[0m \u001b[0;34m=\u001b[0m \u001b[0mint\u001b[0m\u001b[0;34m(\u001b[0m\u001b[0minput\u001b[0m\u001b[0;34m(\u001b[0m\u001b[0;34m\"Label this tweet: (0: Biden  1: Trump 2: Skip)\"\u001b[0m\u001b[0;34m)\u001b[0m\u001b[0;34m)\u001b[0m\u001b[0;34m\u001b[0m\u001b[0;34m\u001b[0m\u001b[0m\n\u001b[0m\u001b[1;32m     10\u001b[0m         \u001b[0;32mif\u001b[0m \u001b[0mlabel\u001b[0m \u001b[0;34m<\u001b[0m \u001b[0;36m2\u001b[0m\u001b[0;34m:\u001b[0m\u001b[0;34m\u001b[0m\u001b[0;34m\u001b[0m\u001b[0m\n\u001b[1;32m     11\u001b[0m             \u001b[0mto_go\u001b[0m \u001b[0;34m-=\u001b[0m \u001b[0;36m1\u001b[0m\u001b[0;34m\u001b[0m\u001b[0;34m\u001b[0m\u001b[0m\n",
      "\u001b[0;31mValueError\u001b[0m: invalid literal for int() with base 10: ''"
     ]
    }
   ],
   "source": [
    "manual_label(df)"
   ]
  },
  {
   "cell_type": "code",
   "execution_count": null,
   "metadata": {},
   "outputs": [],
   "source": []
  }
 ],
 "metadata": {
  "kernelspec": {
   "display_name": "Python 3",
   "language": "python",
   "name": "python3"
  },
  "language_info": {
   "codemirror_mode": {
    "name": "ipython",
    "version": 3
   },
   "file_extension": ".py",
   "mimetype": "text/x-python",
   "name": "python",
   "nbconvert_exporter": "python",
   "pygments_lexer": "ipython3",
   "version": "3.7.7-final"
  }
 },
 "nbformat": 4,
 "nbformat_minor": 4
}