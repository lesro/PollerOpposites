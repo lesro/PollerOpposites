{
 "cells": [
  {
   "cell_type": "code",
   "execution_count": null,
   "metadata": {},
   "outputs": [],
   "source": [
    "def series_to_TFIDF(corpus):\n",
    "    # stem words\n",
    "    snowb = SnowballStemmer('english')\n",
    "    corpus = ['\\n'.join([snowb.stem(word) for word in word_tokenize(tweet)])\n",
    "                    for tweet in corpus.values]\n",
    "    # vectorize w/ ngrams\n",
    "    vec = TfidfVectorizer(ngram_range = (1,3), tokenizer = word_tokenize, \n",
    "                          stop_words = set(wordcloud.STOPWORDS))\n",
    "    return vec.fit_transform(corpus)"
   ]
  },
  {
   "cell_type": "code",
   "execution_count": null,
   "metadata": {},
   "outputs": [],
   "source": [
    "X = series_to_TFIDF(primary_tweets['clean_text'])\n",
    "y = primary_tweets['label']\n",
    "\n",
    "X_train, X_test, y_train, y_test = train_test_split(\n",
    "    X, y, test_size=0.2)"
   ]
  },
  {
   "cell_type": "code",
   "execution_count": null,
   "metadata": {},
   "outputs": [],
   "source": [
    "# Train & predict w/ Naive Bayes\n",
    "\n",
    "model = MultinomialNB()\n",
    "model.fit(X_train, y_train)\n",
    "preds = model.predict(X_test)\n",
    "test_results(preds, y_test)"
   ]
  }
 ],
 "metadata": {
  "kernelspec": {
   "display_name": "Python 3",
   "language": "python",
   "name": "python3"
  },
  "language_info": {
   "codemirror_mode": {
    "name": "ipython",
    "version": 3
   },
   "file_extension": ".py",
   "mimetype": "text/x-python",
   "name": "python",
   "nbconvert_exporter": "python",
   "pygments_lexer": "ipython3",
   "version": "3.8.5"
  }
 },
 "nbformat": 4,
 "nbformat_minor": 4
}
